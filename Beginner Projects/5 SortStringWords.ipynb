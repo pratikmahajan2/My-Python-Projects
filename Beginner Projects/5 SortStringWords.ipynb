{
 "cells": [
  {
   "cell_type": "markdown",
   "metadata": {},
   "source": [
    "This program is to accepts a string and:\n",
    "\n",
    "    rearrange it sorting words in ascending order.\n",
    "    words should be arranged irrespective of their case.\n",
    "    output string shuold retain case of the words.\n",
    "    \n",
    "For example, if input is \"apple ORANGE Banana\" \n",
    "the output should be \"apple Banana ORANGE\""
   ]
  },
  {
   "cell_type": "code",
   "execution_count": 15,
   "metadata": {},
   "outputs": [],
   "source": [
    "def sortstringwords(string):\n",
    "    \n",
    "    temp_list = []\n",
    "    #extract each word from the string in a list and append its lower case of first letter at the beginning\n",
    "    tstring = string.split()\n",
    "    for words in tstring:\n",
    "        temp_list.append(words[0].lower()+words)\n",
    "\n",
    "    #sort the list\n",
    "    #print(temp_list)\n",
    "    temp_list.sort()\n",
    "    #print(temp_list)\n",
    "    \n",
    "    #remove first letter from each word and join the words t form a string\n",
    "    new_list = []\n",
    "    for items in temp_list:\n",
    "        new_list.append(items[1::])\n",
    "    \n",
    "    \n",
    "    print(\"Sorted List is: \" + ' '.join(new_list))"
   ]
  },
  {
   "cell_type": "code",
   "execution_count": 16,
   "metadata": {},
   "outputs": [
    {
     "name": "stdin",
     "output_type": "stream",
     "text": [
      "Please enter a string:  apple ORANGE Banana\n"
     ]
    },
    {
     "name": "stdout",
     "output_type": "stream",
     "text": [
      "['aapple', 'oORANGE', 'bBanana']\n",
      "['aapple', 'bBanana', 'oORANGE']\n",
      "Sorted List is: apple Banana ORANGE\n"
     ]
    }
   ],
   "source": [
    "def main():\n",
    "    \n",
    "    new_list = sortstringwords(input(\"Please enter a string: \"))\n",
    "        \n",
    "if __name__ == main():\n",
    "    main()"
   ]
  },
  {
   "cell_type": "code",
   "execution_count": null,
   "metadata": {},
   "outputs": [],
   "source": []
  }
 ],
 "metadata": {
  "kernelspec": {
   "display_name": "Python 3",
   "language": "python",
   "name": "python3"
  },
  "language_info": {
   "codemirror_mode": {
    "name": "ipython",
    "version": 3
   },
   "file_extension": ".py",
   "mimetype": "text/x-python",
   "name": "python",
   "nbconvert_exporter": "python",
   "pygments_lexer": "ipython3",
   "version": "3.7.0"
  }
 },
 "nbformat": 4,
 "nbformat_minor": 2
}

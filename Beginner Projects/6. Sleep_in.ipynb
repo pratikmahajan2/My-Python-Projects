{
 "cells": [
  {
   "cell_type": "markdown",
   "metadata": {},
   "source": [
    "This program to except input from user and pass those to a fucntion.\n",
    "\n",
    "        User input is day of the week\n",
    "        If weekday - its working day - wakeup and get ready for office\n",
    "        If weekend - its not a working day. Enjoy and sleep."
   ]
  },
  {
   "cell_type": "code",
   "execution_count": 7,
   "metadata": {},
   "outputs": [
    {
     "name": "stdout",
     "output_type": "stream",
     "text": [
      "What day is today? Monday\n",
      "Its a working day. Have a nice day at office\n"
     ]
    }
   ],
   "source": [
    "weekday = ['monday', 'tuesday', 'wednesday', 'thursday', 'friday']\n",
    "\n",
    "def sleep_in(day):\n",
    "    return day.lower() in weekday\n",
    "\n",
    "def main():\n",
    "    #result = sleep_in(input('What day is today? '))\n",
    "    if sleep_in(input('What day is today? ')):\n",
    "        print(\"Its a working day. Have a nice day at office\")\n",
    "    else:\n",
    "        print('Yay! its weekend. Enjoy and sleep in')\n",
    "        \n",
    "if __name__ == main():\n",
    "    main()"
   ]
  },
  {
   "cell_type": "code",
   "execution_count": null,
   "metadata": {},
   "outputs": [],
   "source": []
  }
 ],
 "metadata": {
  "kernelspec": {
   "display_name": "Python 3",
   "language": "python",
   "name": "python3"
  },
  "language_info": {
   "codemirror_mode": {
    "name": "ipython",
    "version": 3
   },
   "file_extension": ".py",
   "mimetype": "text/x-python",
   "name": "python",
   "nbconvert_exporter": "python",
   "pygments_lexer": "ipython3",
   "version": "3.7.0"
  }
 },
 "nbformat": 4,
 "nbformat_minor": 2
}

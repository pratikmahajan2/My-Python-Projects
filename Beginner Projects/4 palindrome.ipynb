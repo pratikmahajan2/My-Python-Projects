{
 "cells": [
  {
   "cell_type": "markdown",
   "metadata": {},
   "source": [
    "This program is to find if entered string in a Palindrome\n",
    "\n",
    "        ignore spaces in present in the text\n",
    "        ignore case in the string\n",
    "        Only consider letters (A-Z)"
   ]
  },
  {
   "cell_type": "code",
   "execution_count": 4,
   "metadata": {},
   "outputs": [
    {
     "name": "stdin",
     "output_type": "stream",
     "text": [
      "Please enter a string to test palindrome  Go hang a salami - I'm a lasagna hog.\n"
     ]
    },
    {
     "name": "stdout",
     "output_type": "stream",
     "text": [
      "Entered string 'Go hang a salami - I'm a lasagna hog.' is a palindrome\n"
     ]
    }
   ],
   "source": [
    "def ispalindrom(text):\n",
    "    out=''\n",
    "    for items in text:\n",
    "        if items.isalpha():\n",
    "            out = out + items\n",
    "    return out.lower() == out[::-1].lower()\n",
    "\n",
    "def main():\n",
    "    text = input(\"Please enter a string to test palindrome \")\n",
    "    if ispalindrom(text):\n",
    "        print(\"Entered string '\" + text + \"' is a palindrome\")\n",
    "    else:\n",
    "        print(\"Entered string '\" + text + \"' is not a palindrome\")\n",
    "        \n",
    "if __name__ == main():\n",
    "    main()"
   ]
  }
 ],
 "metadata": {
  "kernelspec": {
   "display_name": "Python 3",
   "language": "python",
   "name": "python3"
  },
  "language_info": {
   "codemirror_mode": {
    "name": "ipython",
    "version": 3
   },
   "file_extension": ".py",
   "mimetype": "text/x-python",
   "name": "python",
   "nbconvert_exporter": "python",
   "pygments_lexer": "ipython3",
   "version": "3.7.0"
  }
 },
 "nbformat": 4,
 "nbformat_minor": 2
}

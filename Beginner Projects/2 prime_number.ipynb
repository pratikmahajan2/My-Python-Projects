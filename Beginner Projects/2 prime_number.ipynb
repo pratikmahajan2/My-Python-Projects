{
 "cells": [
  {
   "cell_type": "markdown",
   "metadata": {},
   "source": [
    "This program is to find a given number is prime or not."
   ]
  },
  {
   "cell_type": "code",
   "execution_count": 10,
   "metadata": {},
   "outputs": [
    {
     "name": "stdin",
     "output_type": "stream",
     "text": [
      "Enter an integer:  23\n"
     ]
    },
    {
     "name": "stdout",
     "output_type": "stream",
     "text": [
      "23 is a prime number\n"
     ]
    }
   ],
   "source": [
    "def is_prime(num):\n",
    "    temp = 2\n",
    "    while temp < num:\n",
    "        if num%temp == 0:\n",
    "            break\n",
    "        temp = temp+1\n",
    "    return temp == num\n",
    "\n",
    "def main():\n",
    "    factors = []\n",
    "    prime_factors = []\n",
    "    \n",
    "    while True:\n",
    "        try:\n",
    "            input_no = int(input(\"Enter an integer: \"))\n",
    "        except:\n",
    "            print(\"Thats not an Integer. Please try again!!!\")\n",
    "        else:\n",
    "            isprime = is_prime(input_no)\n",
    "            break\n",
    "    \n",
    "    if isprime:\n",
    "        print(f\"{input_no} is a prime number\")\n",
    "    else:\n",
    "        print(f\"{input_no} is not a prime number\")\n",
    "\n",
    "if __name__ == main():\n",
    "    main()"
   ]
  },
  {
   "cell_type": "code",
   "execution_count": null,
   "metadata": {},
   "outputs": [],
   "source": []
  }
 ],
 "metadata": {
  "kernelspec": {
   "display_name": "Python 3",
   "language": "python",
   "name": "python3"
  },
  "language_info": {
   "codemirror_mode": {
    "name": "ipython",
    "version": 3
   },
   "file_extension": ".py",
   "mimetype": "text/x-python",
   "name": "python",
   "nbconvert_exporter": "python",
   "pygments_lexer": "ipython3",
   "version": "3.7.0"
  }
 },
 "nbformat": 4,
 "nbformat_minor": 2
}

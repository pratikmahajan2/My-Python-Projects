{
 "cells": [
  {
   "cell_type": "markdown",
   "metadata": {},
   "source": [
    "This program is to find unique factors of a given number and list the prime factors. "
   ]
  },
  {
   "cell_type": "code",
   "execution_count": 8,
   "metadata": {},
   "outputs": [
    {
     "name": "stdin",
     "output_type": "stream",
     "text": [
      "Enter an integer:  630\n"
     ]
    },
    {
     "name": "stdout",
     "output_type": "stream",
     "text": [
      "Prime factors are: 2\n",
      "Prime factors are: 3\n",
      "Prime factors are: 3\n",
      "Prime factors are: 5\n",
      "Prime factors are: 7\n"
     ]
    }
   ],
   "source": [
    "def findfactor(num):\n",
    "    factors = []\n",
    "    temp=2\n",
    "    while temp <= num:\n",
    "        if num%temp == 0:\n",
    "            factors.append(temp)\n",
    "            num = num/temp\n",
    "        else:\n",
    "            temp = temp + 1\n",
    "    return factors\n",
    "\n",
    "def main():\n",
    "    factors = []\n",
    "    prime_factors = []\n",
    "    \n",
    "    while True:\n",
    "        try:\n",
    "            input_no = int(input(\"Enter an integer: \"))\n",
    "        except:\n",
    "            print(\"Thats not an Integer. Please try again!!!\")\n",
    "        else:\n",
    "            factors = findfactor(input_no)\n",
    "            prime_factors = is_prime(factors)\n",
    "            break\n",
    "    \n",
    "    for items in factors:\n",
    "        print (f\"Prime factors are: {items}\")\n",
    "\n",
    "if __name__ == main():\n",
    "    main()"
   ]
  },
  {
   "cell_type": "markdown",
   "metadata": {},
   "source": [
    " "
   ]
  }
 ],
 "metadata": {
  "kernelspec": {
   "display_name": "Python 3",
   "language": "python",
   "name": "python3"
  },
  "language_info": {
   "codemirror_mode": {
    "name": "ipython",
    "version": 3
   },
   "file_extension": ".py",
   "mimetype": "text/x-python",
   "name": "python",
   "nbconvert_exporter": "python",
   "pygments_lexer": "ipython3",
   "version": "3.7.0"
  }
 },
 "nbformat": 4,
 "nbformat_minor": 2
}
